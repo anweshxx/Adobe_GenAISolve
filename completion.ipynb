{
  "nbformat": 4,
  "nbformat_minor": 0,
  "metadata": {
    "colab": {
      "provenance": []
    },
    "kernelspec": {
      "name": "python3",
      "display_name": "Python 3"
    },
    "language_info": {
      "name": "python"
    }
  },
  "cells": [
    {
      "cell_type": "code",
      "source": [
        "import cv2\n",
        "import numpy as np\n",
        "from scipy.spatial import ConvexHull\n",
        "import matplotlib.pyplot as plt\n",
        "import os\n",
        "\n",
        "def extract_polylines(image_path):\n",
        "\n",
        "   # Converting an image to polylines using edge detection.\n",
        "\n",
        "    image = cv2.imread(image_path, cv2.IMREAD_GRAYSCALE)\n",
        "    edges = cv2.Canny(image, 50, 150)\n",
        "    contours, _ = cv2.findContours(edges, cv2.RETR_EXTERNAL, cv2.CHAIN_APPROX_SIMPLE)\n",
        "\n",
        "    polylines = [contour[:, 0, :] for contour in contours]\n",
        "    return polylines\n",
        "\n",
        "def complete_curve_with_convex_hull(points):\n",
        "\n",
        "    #Completing the curve using the convex hull of the points.\n",
        "\n",
        "    if len(points) < 3:\n",
        "        return points\n",
        "    hull = ConvexHull(points)\n",
        "    hull_points = points[hull.vertices]\n",
        "    return np.append(hull_points, [hull_points[0]], axis=0)\n",
        "\n",
        "def process_image(image_path, output_dir):\n",
        "\n",
        "    #Processing the image to extract, complete, and visualize curves using the convex hull method.\n",
        "\n",
        "    if not os.path.exists(output_dir):\n",
        "        os.makedirs(output_dir)\n",
        "\n",
        "    # Extracting polylines from the image\n",
        "    polylines = extract_polylines(image_path)\n",
        "    print(f\"Extracted {len(polylines)} polylines from the image.\")\n",
        "\n",
        "    completed_curves = []\n",
        "\n",
        "    # Completing each curve using the convex hull\n",
        "    for i, polyline in enumerate(polylines):\n",
        "        completed_curve = complete_curve_with_convex_hull(polyline)\n",
        "        completed_curves.append(completed_curve)\n",
        "        print(f\"Completed curve {i+1} with {len(completed_curve)} points.\")\n",
        "\n",
        "    # Visualizing the completed curves\n",
        "    plt.figure(figsize=(8, 8))\n",
        "    for completed_curve in completed_curves:\n",
        "        plt.plot(completed_curve[:, 0], completed_curve[:, 1], 'r-')\n",
        "\n",
        "    plt.gca().invert_yaxis()  # Invert y-axis if needed\n",
        "    plt.axis('equal')\n",
        "    plt.axis('off')  # Turn off the axis\n",
        "\n",
        "    output_path = os.path.join(output_dir, \"completed_curves.png\")\n",
        "    plt.savefig(output_path, bbox_inches='tight', pad_inches=0)\n",
        "    plt.close()\n",
        "\n",
        "    print(f\"Completed curves saved to {output_path}.\")\n",
        "\n",
        "# Main execution\n",
        "def main():\n",
        "    image_path = \"/content/occlusion1_rec.png\"\n",
        "    output_dir = \"output\"\n",
        "\n",
        "    process_image(image_path, output_dir)\n",
        "\n",
        "if __name__ == \"__main__\":\n",
        "    main()\n"
      ],
      "metadata": {
        "colab": {
          "base_uri": "https://localhost:8080/"
        },
        "id": "7TrGIP6Hz-wj",
        "outputId": "6997e25b-53c1-4fa2-a0ed-dfe8839f03b7"
      },
      "execution_count": 11,
      "outputs": [
        {
          "output_type": "stream",
          "name": "stdout",
          "text": [
            "Extracted 1 polylines from the image.\n",
            "Completed curve 1 with 138 points.\n",
            "Completed curves saved to output/completed_curves.png.\n"
          ]
        }
      ]
    },
    {
      "cell_type": "code",
      "source": [],
      "metadata": {
        "id": "lqXy9fM5_wG3"
      },
      "execution_count": null,
      "outputs": []
    }
  ]
}