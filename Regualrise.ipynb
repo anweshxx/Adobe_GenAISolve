{
  "nbformat": 4,
  "nbformat_minor": 0,
  "metadata": {
    "colab": {
      "provenance": []
    },
    "kernelspec": {
      "name": "python3",
      "display_name": "Python 3"
    },
    "language_info": {
      "name": "python"
    }
  },
  "cells": [
    {
      "cell_type": "code",
      "source": [
        "!pip install cairosvg\n"
      ],
      "metadata": {
        "colab": {
          "base_uri": "https://localhost:8080/"
        },
        "id": "I6qqby1nzv9G",
        "outputId": "a9cc011d-840f-4e75-f8c0-c640886938f4"
      },
      "execution_count": 1,
      "outputs": [
        {
          "output_type": "stream",
          "name": "stdout",
          "text": [
            "Collecting cairosvg\n",
            "  Downloading CairoSVG-2.7.1-py3-none-any.whl.metadata (2.7 kB)\n",
            "Collecting cairocffi (from cairosvg)\n",
            "  Downloading cairocffi-1.7.1-py3-none-any.whl.metadata (3.3 kB)\n",
            "Collecting cssselect2 (from cairosvg)\n",
            "  Downloading cssselect2-0.7.0-py3-none-any.whl.metadata (2.9 kB)\n",
            "Requirement already satisfied: defusedxml in /usr/local/lib/python3.10/dist-packages (from cairosvg) (0.7.1)\n",
            "Requirement already satisfied: pillow in /usr/local/lib/python3.10/dist-packages (from cairosvg) (9.4.0)\n",
            "Requirement already satisfied: tinycss2 in /usr/local/lib/python3.10/dist-packages (from cairosvg) (1.3.0)\n",
            "Requirement already satisfied: cffi>=1.1.0 in /usr/local/lib/python3.10/dist-packages (from cairocffi->cairosvg) (1.17.0)\n",
            "Requirement already satisfied: webencodings in /usr/local/lib/python3.10/dist-packages (from cssselect2->cairosvg) (0.5.1)\n",
            "Requirement already satisfied: pycparser in /usr/local/lib/python3.10/dist-packages (from cffi>=1.1.0->cairocffi->cairosvg) (2.22)\n",
            "Downloading CairoSVG-2.7.1-py3-none-any.whl (43 kB)\n",
            "\u001b[2K   \u001b[90m━━━━━━━━━━━━━━━━━━━━━━━━━━━━━━━━━━━━━━━━\u001b[0m \u001b[32m43.2/43.2 kB\u001b[0m \u001b[31m758.2 kB/s\u001b[0m eta \u001b[36m0:00:00\u001b[0m\n",
            "\u001b[?25hDownloading cairocffi-1.7.1-py3-none-any.whl (75 kB)\n",
            "\u001b[2K   \u001b[90m━━━━━━━━━━━━━━━━━━━━━━━━━━━━━━━━━━━━━━━━\u001b[0m \u001b[32m75.6/75.6 kB\u001b[0m \u001b[31m2.6 MB/s\u001b[0m eta \u001b[36m0:00:00\u001b[0m\n",
            "\u001b[?25hDownloading cssselect2-0.7.0-py3-none-any.whl (15 kB)\n",
            "Installing collected packages: cssselect2, cairocffi, cairosvg\n",
            "Successfully installed cairocffi-1.7.1 cairosvg-2.7.1 cssselect2-0.7.0\n"
          ]
        }
      ]
    },
    {
      "cell_type": "code",
      "source": [
        "import cv2\n",
        "import numpy as np\n",
        "from PIL import Image\n",
        "import matplotlib.pyplot as plt\n",
        "\n",
        "import cairosvg\n",
        "\n",
        "def convert_svg_to_png(input_svg_path, output_png_path):\n",
        "    try:\n",
        "        cairosvg.svg2png(url=input_svg_path, write_to=output_png_path)\n",
        "        print(f\"Successfully converted {input_svg_path} to {output_png_path}\")\n",
        "    except Exception as e:\n",
        "        print(f\"An error occurred: {e}\")\n",
        "\n",
        "input_svg_path = r\"/content/isolated_sol.csv\"\n",
        "output_png_path = r\"/content/isolated_sol.png\"\n",
        "\n",
        "# Convert SVG to PNG\n",
        "convert_svg_to_png(input_svg_path, output_png_path)"
      ],
      "metadata": {
        "colab": {
          "base_uri": "https://localhost:8080/"
        },
        "id": "fol_R7mC1TI-",
        "outputId": "6900083b-14e4-459c-f1cf-675bc99d8b80"
      },
      "execution_count": 2,
      "outputs": [
        {
          "output_type": "stream",
          "name": "stdout",
          "text": [
            "An error occurred: <urlopen error [Errno 2] No such file or directory: '/content/isolated_sol.csv'>\n"
          ]
        }
      ]
    },
    {
      "cell_type": "code",
      "execution_count": 4,
      "metadata": {
        "colab": {
          "base_uri": "https://localhost:8080/",
          "height": 562
        },
        "id": "-pzmuPGfx3zQ",
        "outputId": "001b467b-bf2c-4871-fa8f-82dfc00c7891"
      },
      "outputs": [
        {
          "output_type": "stream",
          "name": "stdout",
          "text": [
            "Loaded data:\n",
            "[[  0.           0.         109.14299774 125.58000183]\n",
            " [  0.           0.         110.15747833 125.49578094]\n",
            " [  0.           0.         111.17194366 125.40398407]\n",
            " ...\n",
            " [  2.           0.           5.6753335    1.34307408]\n",
            " [  2.           0.           7.1833334    1.5595926 ]\n",
            " [  2.           0.           8.69999981   1.41700006]]\n",
            "Output image saved at regularise.png\n"
          ]
        },
        {
          "output_type": "display_data",
          "data": {
            "text/plain": [
              "<Figure size 640x480 with 1 Axes>"
            ],
            "image/png": "[encoded data removed]"
          },
          "metadata": {}
        }
      ],
      "source": [
        "def read_csv(csv_path):\n",
        "    try:\n",
        "        np_path_XYs = np.genfromtxt(csv_path, delimiter=',')\n",
        "        print(\"Loaded data:\")\n",
        "        print(np_path_XYs)\n",
        "\n",
        "        path_XYs = []\n",
        "        for i in np.unique(np_path_XYs[:, 0]):\n",
        "            npXYs = np_path_XYs[np_path_XYs[:, 0] == i][:, 1:]\n",
        "            XYs = []\n",
        "            for j in np.unique(npXYs[:, 0]):\n",
        "                XY = npXYs[npXYs[:, 0] == j][:, 1:]\n",
        "                XYs.append(XY.astype(np.int32))\n",
        "            path_XYs.append(XYs)\n",
        "\n",
        "        return path_XYs\n",
        "\n",
        "    except Exception as e:\n",
        "        print(f\"An error occurred: {e}\")\n",
        "        return []\n",
        "\n",
        "def detect_shapes_refined_from_csv(csv_path, output_path):\n",
        "    path_XYs = read_csv(csv_path)\n",
        "    if not path_XYs:\n",
        "        return\n",
        "\n",
        "    output = np.ones((500, 500, 3), dtype=np.uint8) * 255\n",
        "\n",
        "    for path_contours in path_XYs:\n",
        "        for contour in path_contours:\n",
        "            epsilon = 0.02 * cv2.arcLength(contour, True)\n",
        "            approx = cv2.approxPolyDP(contour, epsilon, True)\n",
        "            area = cv2.contourArea(contour)\n",
        "\n",
        "            if area < 100:\n",
        "                continue\n",
        "\n",
        "            if len(approx) == 3:\n",
        "                cv2.drawContours(output, [approx], -1, (0, 0, 255), 2)\n",
        "            elif len(approx) == 4:\n",
        "                x, y, w, h = cv2.boundingRect(approx)\n",
        "                aspect_ratio = w / float(h)\n",
        "                if 0.95 <= aspect_ratio <= 1.05:\n",
        "                    cv2.rectangle(output, (x, y), (x + w, y + h), (0, 0, 255), 2)\n",
        "                else:\n",
        "                    cv2.rectangle(output, (x, y), (x + w, y + h), (0, 0, 255), 2)\n",
        "            elif len(approx) == 5:\n",
        "                cv2.drawContours(output, [approx], -1, (0, 0, 255), 2)\n",
        "            elif len(approx) > 5:\n",
        "                (x, y), radius = cv2.minEnclosingCircle(contour)\n",
        "                center = (int(x), int(y))\n",
        "                radius = int(radius)\n",
        "                perimeter = cv2.arcLength(contour, True)\n",
        "                circularity = 4 * np.pi * (area / (perimeter ** 2))\n",
        "                if 0.7 < circularity < 1.3:\n",
        "                    cv2.circle(output, center, radius, (0, 0, 255), 2)\n",
        "                else:\n",
        "                    cv2.drawContours(output, [approx], -1, (0, 0, 255), 2)\n",
        "\n",
        "    cv2.imwrite(output_path, output)\n",
        "    print(f\"Output image saved at {output_path}\")\n",
        "\n",
        "csv_path = r\"isolated.csv\"\n",
        "refined_output_image_path = r\"regularise.png\"\n",
        "\n",
        "\n",
        "detect_shapes_refined_from_csv(csv_path, refined_output_image_path)\n",
        "\n",
        "output_image = Image.open(refined_output_image_path)\n",
        "plt.imshow(output_image)\n",
        "plt.axis('off')\n",
        "plt.show()"
      ]
    },
    {
      "cell_type": "code",
      "source": [],
      "metadata": {
        "id": "rX6Sie177Euc"
      },
      "execution_count": null,
      "outputs": []
    }
  ]
}